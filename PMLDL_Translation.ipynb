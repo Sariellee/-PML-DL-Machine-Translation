{
  "nbformat": 4,
  "nbformat_minor": 0,
  "metadata": {
    "colab": {
      "name": "PMLDL-Translation.ipynb",
      "provenance": [],
      "collapsed_sections": []
    },
    "kernelspec": {
      "name": "python3",
      "display_name": "Python 3"
    },
    "accelerator": "GPU",
    "widgets": {
      "application/vnd.jupyter.widget-state+json": {
        "09a3e63593b84e9e896c52d4d92acef3": {
          "model_module": "@jupyter-widgets/controls",
          "model_name": "HBoxModel",
          "state": {
            "_view_name": "HBoxView",
            "_dom_classes": [],
            "_model_name": "HBoxModel",
            "_view_module": "@jupyter-widgets/controls",
            "_model_module_version": "1.5.0",
            "_view_count": null,
            "_view_module_version": "1.5.0",
            "box_style": "",
            "layout": "IPY_MODEL_3bc69a719e65494e95348fce24914a0d",
            "_model_module": "@jupyter-widgets/controls",
            "children": [
              "IPY_MODEL_e2c230b12184423da77ffe0fcf12dd67",
              "IPY_MODEL_57df122573334713a3b63c21fb289544"
            ]
          }
        },
        "3bc69a719e65494e95348fce24914a0d": {
          "model_module": "@jupyter-widgets/base",
          "model_name": "LayoutModel",
          "state": {
            "_view_name": "LayoutView",
            "grid_template_rows": null,
            "right": null,
            "justify_content": null,
            "_view_module": "@jupyter-widgets/base",
            "overflow": null,
            "_model_module_version": "1.2.0",
            "_view_count": null,
            "flex_flow": null,
            "width": null,
            "min_width": null,
            "border": null,
            "align_items": null,
            "bottom": null,
            "_model_module": "@jupyter-widgets/base",
            "top": null,
            "grid_column": null,
            "overflow_y": null,
            "overflow_x": null,
            "grid_auto_flow": null,
            "grid_area": null,
            "grid_template_columns": null,
            "flex": null,
            "_model_name": "LayoutModel",
            "justify_items": null,
            "grid_row": null,
            "max_height": null,
            "align_content": null,
            "visibility": null,
            "align_self": null,
            "height": null,
            "min_height": null,
            "padding": null,
            "grid_auto_rows": null,
            "grid_gap": null,
            "max_width": null,
            "order": null,
            "_view_module_version": "1.2.0",
            "grid_template_areas": null,
            "object_position": null,
            "object_fit": null,
            "grid_auto_columns": null,
            "margin": null,
            "display": null,
            "left": null
          }
        },
        "e2c230b12184423da77ffe0fcf12dd67": {
          "model_module": "@jupyter-widgets/controls",
          "model_name": "FloatProgressModel",
          "state": {
            "_view_name": "ProgressView",
            "style": "IPY_MODEL_0fd44e22e33444a18a3cdfb81fdf9f20",
            "_dom_classes": [],
            "description": "100%",
            "_model_name": "FloatProgressModel",
            "bar_style": "success",
            "max": 100,
            "_view_module": "@jupyter-widgets/controls",
            "_model_module_version": "1.5.0",
            "value": 100,
            "_view_count": null,
            "_view_module_version": "1.5.0",
            "orientation": "horizontal",
            "min": 0,
            "description_tooltip": null,
            "_model_module": "@jupyter-widgets/controls",
            "layout": "IPY_MODEL_1d609bfb679546e8a998c336173c3c2c"
          }
        },
        "57df122573334713a3b63c21fb289544": {
          "model_module": "@jupyter-widgets/controls",
          "model_name": "HTMLModel",
          "state": {
            "_view_name": "HTMLView",
            "style": "IPY_MODEL_7561658cddb14b529ab2138bd43fbf0d",
            "_dom_classes": [],
            "description": "",
            "_model_name": "HTMLModel",
            "placeholder": "​",
            "_view_module": "@jupyter-widgets/controls",
            "_model_module_version": "1.5.0",
            "value": " 100/100 [00:36&lt;00:00,  2.72it/s]",
            "_view_count": null,
            "_view_module_version": "1.5.0",
            "description_tooltip": null,
            "_model_module": "@jupyter-widgets/controls",
            "layout": "IPY_MODEL_12bae2ed17ae458fa0dd5a64459d246c"
          }
        },
        "0fd44e22e33444a18a3cdfb81fdf9f20": {
          "model_module": "@jupyter-widgets/controls",
          "model_name": "ProgressStyleModel",
          "state": {
            "_view_name": "StyleView",
            "_model_name": "ProgressStyleModel",
            "description_width": "initial",
            "_view_module": "@jupyter-widgets/base",
            "_model_module_version": "1.5.0",
            "_view_count": null,
            "_view_module_version": "1.2.0",
            "bar_color": null,
            "_model_module": "@jupyter-widgets/controls"
          }
        },
        "1d609bfb679546e8a998c336173c3c2c": {
          "model_module": "@jupyter-widgets/base",
          "model_name": "LayoutModel",
          "state": {
            "_view_name": "LayoutView",
            "grid_template_rows": null,
            "right": null,
            "justify_content": null,
            "_view_module": "@jupyter-widgets/base",
            "overflow": null,
            "_model_module_version": "1.2.0",
            "_view_count": null,
            "flex_flow": null,
            "width": null,
            "min_width": null,
            "border": null,
            "align_items": null,
            "bottom": null,
            "_model_module": "@jupyter-widgets/base",
            "top": null,
            "grid_column": null,
            "overflow_y": null,
            "overflow_x": null,
            "grid_auto_flow": null,
            "grid_area": null,
            "grid_template_columns": null,
            "flex": null,
            "_model_name": "LayoutModel",
            "justify_items": null,
            "grid_row": null,
            "max_height": null,
            "align_content": null,
            "visibility": null,
            "align_self": null,
            "height": null,
            "min_height": null,
            "padding": null,
            "grid_auto_rows": null,
            "grid_gap": null,
            "max_width": null,
            "order": null,
            "_view_module_version": "1.2.0",
            "grid_template_areas": null,
            "object_position": null,
            "object_fit": null,
            "grid_auto_columns": null,
            "margin": null,
            "display": null,
            "left": null
          }
        },
        "7561658cddb14b529ab2138bd43fbf0d": {
          "model_module": "@jupyter-widgets/controls",
          "model_name": "DescriptionStyleModel",
          "state": {
            "_view_name": "StyleView",
            "_model_name": "DescriptionStyleModel",
            "description_width": "",
            "_view_module": "@jupyter-widgets/base",
            "_model_module_version": "1.5.0",
            "_view_count": null,
            "_view_module_version": "1.2.0",
            "_model_module": "@jupyter-widgets/controls"
          }
        },
        "12bae2ed17ae458fa0dd5a64459d246c": {
          "model_module": "@jupyter-widgets/base",
          "model_name": "LayoutModel",
          "state": {
            "_view_name": "LayoutView",
            "grid_template_rows": null,
            "right": null,
            "justify_content": null,
            "_view_module": "@jupyter-widgets/base",
            "overflow": null,
            "_model_module_version": "1.2.0",
            "_view_count": null,
            "flex_flow": null,
            "width": null,
            "min_width": null,
            "border": null,
            "align_items": null,
            "bottom": null,
            "_model_module": "@jupyter-widgets/base",
            "top": null,
            "grid_column": null,
            "overflow_y": null,
            "overflow_x": null,
            "grid_auto_flow": null,
            "grid_area": null,
            "grid_template_columns": null,
            "flex": null,
            "_model_name": "LayoutModel",
            "justify_items": null,
            "grid_row": null,
            "max_height": null,
            "align_content": null,
            "visibility": null,
            "align_self": null,
            "height": null,
            "min_height": null,
            "padding": null,
            "grid_auto_rows": null,
            "grid_gap": null,
            "max_width": null,
            "order": null,
            "_view_module_version": "1.2.0",
            "grid_template_areas": null,
            "object_position": null,
            "object_fit": null,
            "grid_auto_columns": null,
            "margin": null,
            "display": null,
            "left": null
          }
        }
      }
    }
  },
  "cells": [
    {
      "cell_type": "code",
      "metadata": {
        "colab": {
          "base_uri": "https://localhost:8080/"
        },
        "id": "sF1VuHDjAt_G",
        "outputId": "2053bc5e-57cf-4bb4-c2d2-dae7e37e9fe8"
      },
      "source": [
        "!pip -q install transformers hydra-core omegaconf fastBPE"
      ],
      "execution_count": null,
      "outputs": [
        {
          "output_type": "stream",
          "text": [
            "\u001b[K     |████████████████████████████████| 133kB 19.3MB/s \n",
            "\u001b[K     |████████████████████████████████| 112kB 42.9MB/s \n",
            "\u001b[K     |████████████████████████████████| 645kB 43.9MB/s \n",
            "\u001b[?25h  Building wheel for fastBPE (setup.py) ... \u001b[?25l\u001b[?25hdone\n",
            "  Building wheel for antlr4-python3-runtime (setup.py) ... \u001b[?25l\u001b[?25hdone\n"
          ],
          "name": "stdout"
        }
      ]
    },
    {
      "cell_type": "code",
      "metadata": {
        "id": "hrqpBTkbnrNa"
      },
      "source": [
        "import torch\n",
        "from transformers import FSMTForConditionalGeneration, FSMTTokenizer\n",
        "\n",
        "class BaseTranslationModel:\n",
        "    model = None\n",
        "    tokenizer = None\n",
        "\n",
        "    def get_inference(self, input: str) -> str:\n",
        "        return input\n",
        "\n",
        "    def translate(self, input: str) -> str:\n",
        "        return self.get_inference(input)\n",
        "\n",
        "# https://arxiv.org/abs/1907.06616\n",
        "class FBWmt19(BaseTranslationModel):\n",
        "    def __init__(self, mname = \"facebook/wmt19-ru-en\"):\n",
        "        tokenizer = FSMTTokenizer.from_pretrained(mname)\n",
        "        model = FSMTForConditionalGeneration.from_pretrained(mname)\n",
        "\n",
        "        if torch.cuda.is_available:\n",
        "            model = model.to('cuda')\n",
        "\n",
        "        self.model = model\n",
        "        self.tokenizer = tokenizer\n",
        "\n",
        "    def get_inference(self, input: str) -> str:\n",
        "        input_ids = self.tokenizer.encode(input, return_tensors=\"pt\")\n",
        "        \n",
        "        if torch.cuda.is_available:\n",
        "            input_ids = input_ids.to('cuda')\n",
        "\n",
        "        outputs = self.model.generate(input_ids)\n",
        "        decoded = self.tokenizer.decode(outputs[0], skip_special_tokens=True)\n",
        "        return decoded\n",
        "    \n",
        "\n",
        "class FairseqWmt19(BaseTranslationModel):\n",
        "    def __init__(self, mname = \"transformer.wmt19.ru-en\"):\n",
        "\n",
        "        model = torch.hub.load('pytorch/fairseq', 'transformer.wmt19.ru-en', checkpoint_file='model1.pt:model2.pt:model3.pt:model4.pt',\n",
        "                       tokenizer='moses', bpe='fastbpe')\n",
        "        \n",
        "        if torch.cuda.is_available:\n",
        "            model = model.to('cuda')\n",
        "\n",
        "        self.model = model\n",
        "\n",
        "    def get_inference(self, input: str) -> str:\n",
        "        return self.model.translate(input)"
      ],
      "execution_count": null,
      "outputs": []
    },
    {
      "cell_type": "code",
      "metadata": {
        "id": "ygtIId0bm9bV"
      },
      "source": [
        "from tqdm import tqdm_notebook\n",
        "\n",
        "class Translater:\n",
        "    def __init__(self, \n",
        "                 input_path='/content/eval-ru-100.txt', \n",
        "                 output_path='/content/answer.txt', \n",
        "                 model: BaseTranslationModel=FBWmt19):\n",
        "        self.input_path = input_path\n",
        "        self.output_path = output_path\n",
        "        self.model = model()\n",
        "\n",
        "    def translate(self):\n",
        "        from tqdm import tqdm_notebook\n",
        "\n",
        "        with open(self.input_path, 'r') as f1:\n",
        "            with open(self.output_path, 'w') as f2:\n",
        "                lines = [i for i in f1]\n",
        "                for i, line in enumerate(tqdm_notebook(lines)):\n",
        "                    outputs = self.model.translate(line)\n",
        "                    f2.write(outputs)\n",
        "                    \n",
        "                    if i != (len(lines) - 1):\n",
        "                        f2.write(\"\\n\")"
      ],
      "execution_count": null,
      "outputs": []
    },
    {
      "cell_type": "code",
      "metadata": {
        "colab": {
          "base_uri": "https://localhost:8080/",
          "height": 120,
          "referenced_widgets": [
            "09a3e63593b84e9e896c52d4d92acef3",
            "3bc69a719e65494e95348fce24914a0d",
            "e2c230b12184423da77ffe0fcf12dd67",
            "57df122573334713a3b63c21fb289544",
            "0fd44e22e33444a18a3cdfb81fdf9f20",
            "1d609bfb679546e8a998c336173c3c2c",
            "7561658cddb14b529ab2138bd43fbf0d",
            "12bae2ed17ae458fa0dd5a64459d246c"
          ]
        },
        "id": "OOojScEjogGN",
        "outputId": "97f6dec7-06e9-4102-c689-db0d00cfe633"
      },
      "source": [
        "tl = Translater()\n",
        "tl.translate()"
      ],
      "execution_count": null,
      "outputs": [
        {
          "output_type": "stream",
          "text": [
            "/usr/local/lib/python3.7/dist-packages/ipykernel_launcher.py:18: TqdmDeprecationWarning: This function will be removed in tqdm==5.0.0\n",
            "Please use `tqdm.notebook.tqdm` instead of `tqdm.tqdm_notebook`\n"
          ],
          "name": "stderr"
        },
        {
          "output_type": "display_data",
          "data": {
            "application/vnd.jupyter.widget-view+json": {
              "model_id": "09a3e63593b84e9e896c52d4d92acef3",
              "version_minor": 0,
              "version_major": 2
            },
            "text/plain": [
              "HBox(children=(FloatProgress(value=0.0), HTML(value='')))"
            ]
          },
          "metadata": {
            "tags": []
          }
        },
        {
          "output_type": "stream",
          "text": [
            "\n"
          ],
          "name": "stdout"
        }
      ]
    }
  ]
}